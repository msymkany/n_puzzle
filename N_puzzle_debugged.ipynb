{
 "cells": [
  {
   "cell_type": "code",
   "execution_count": 3,
   "metadata": {},
   "outputs": [],
   "source": [
    "import pandas as pd"
   ]
  },
  {
   "cell_type": "code",
   "execution_count": 4,
   "metadata": {},
   "outputs": [],
   "source": [
    "from itertools import product\n",
    "from math import sqrt\n",
    "import numpy as np\n",
    "\n",
    "\n",
    "class Heuristic():\n",
    "\n",
    "    def __init__(self, size):\n",
    "        self.size = size\n",
    "        self.len = size * size\n",
    "\n",
    "    def get_distance_one_num(self, row, col):\n",
    "        pass\n",
    "\n",
    "    def get_distance(self):\n",
    "        d_map = {((row * self.size) + col) : self.get_distance_one_num(row, col)\n",
    "                 for row, col in product(range(self.size), range(self.size))}\n",
    "        return d_map\n",
    "\n",
    "    def get_h(self, puzzle, solved):\n",
    "        all_h = [self.dist_map[num][solved.index(puzzle[num])]\n",
    "                 for num in range(self.len)]\n",
    "#         print(all_h) #test\n",
    "        return sum(all_h)\n",
    "\n",
    "\n",
    "class Euclidian(Heuristic):\n",
    "\n",
    "    def __init__(self, size):\n",
    "        super().__init__(size)\n",
    "        self.dist_map = self.get_distance()\n",
    "        \n",
    "    def get_distance_one_num(self, row, col):\n",
    "        return [sqrt((t_row - row)**2 + (t_col - col)**2)\n",
    "                    for t_row, t_col in product(range(self.size), range(self.size))]\n",
    "\n",
    "    \n",
    "class Manhattan(Heuristic):\n",
    "\n",
    "    def __init__(self, size):\n",
    "        super().__init__(size)\n",
    "        self.dist_map = self.get_distance()\n",
    "        \n",
    "    def get_distance_one_num(self, row, col):\n",
    "        return [abs(t_row - row) + abs(t_col - col)\n",
    "                    for t_row, t_col in product(range(self.size), range(self.size))]\n",
    "\n",
    "    \n",
    "class Hamming(Heuristic):\n",
    "\n",
    "    def __init__(self, size):\n",
    "        super().__init__(size)\n",
    "        \n",
    "    def get_h(self, puzzle, solved):\n",
    "        return np.count_nonzero(np.array(puzzle) - np.array(solved))"
   ]
  },
  {
   "cell_type": "code",
   "execution_count": 5,
   "metadata": {},
   "outputs": [],
   "source": [
    "puzzle = [1, 2, 3, 0, 6, 4, 8, 7, 5]\n",
    "target = [1, 2, 3, 8, 0, 4, 7, 6, 5]\n",
    "psize = 3"
   ]
  },
  {
   "cell_type": "code",
   "execution_count": 6,
   "metadata": {},
   "outputs": [],
   "source": [
    "heuristic = Manhattan(psize)"
   ]
  },
  {
   "cell_type": "raw",
   "metadata": {},
   "source": [
    "['puzzle', , 'g', 'f', 'is_open_list'], \n",
    "[puzzle, None, 0, heuristic.get_h(puzzle, target), 1]"
   ]
  },
  {
   "cell_type": "raw",
   "metadata": {},
   "source": [
    "states = pd.DataFrame({'puzzle': [puzzle], 'parent': None, 'g': 0, \n",
    "                       'f': heuristic.get_h(puzzle, target), 'is_open_list': 1},\n",
    "                             index=[(str(puzzle))])\n",
    " "
   ]
  },
  {
   "cell_type": "raw",
   "metadata": {},
   "source": [
    "states\n"
   ]
  },
  {
   "cell_type": "code",
   "execution_count": 7,
   "metadata": {},
   "outputs": [],
   "source": [
    "# type(states.iloc[0])\n",
    "# current = states.iloc[0]"
   ]
  },
  {
   "cell_type": "code",
   "execution_count": 8,
   "metadata": {},
   "outputs": [],
   "source": [
    "# current.name"
   ]
  },
  {
   "cell_type": "code",
   "execution_count": 9,
   "metadata": {},
   "outputs": [],
   "source": [
    "def move_up(puzzle, hole, psize):\n",
    "    if hole + 1 > psize:\n",
    "        new = puzzle[:]\n",
    "        new[hole], new[hole - psize] = new[hole - psize], new[hole]\n",
    "        return new\n",
    "    \n",
    "def move_down(puzzle, hole, psize):\n",
    "    if hole + 1 + psize <= psize * psize:\n",
    "        new = puzzle[:]\n",
    "        new[hole], new[hole + psize] = new[hole + psize], new[hole]\n",
    "        return new\n",
    "    \n",
    "def move_left(puzzle, hole, psize):\n",
    "    if (hole) % psize:\n",
    "        new = puzzle[:]\n",
    "        new[hole], new[hole - 1] = new[hole - 1], new[hole]\n",
    "        return new\n",
    "    \n",
    "def move_right(puzzle, hole, psize):\n",
    "    if (hole + 1) % psize:\n",
    "        new = puzzle[:]\n",
    "        new[hole], new[hole + 1] = new[hole + 1], new[hole]\n",
    "        return new\n",
    "    \n",
    "moves = [move_up, move_down, move_left, move_right]"
   ]
  },
  {
   "cell_type": "code",
   "execution_count": 10,
   "metadata": {},
   "outputs": [],
   "source": [
    "# move_left([15, 10, 14, 5, 13, 3, 0, 7, 8, 11, 1, 9, 6, 2, 12, 4],15, 4) \n",
    "move_right([15, 10, 14, 5, 13, 3, 0, 7, 8, 11, 1, 9, 6, 2, 12, 4],7, 4) "
   ]
  },
  {
   "cell_type": "code",
   "execution_count": 54,
   "metadata": {},
   "outputs": [],
   "source": [
    "# from State import State\n",
    "import pandas as pd\n",
    "# from moves import moves\n",
    "\n",
    "class Solver:\n",
    "\n",
    "    def __init__(self, puzzle, psize, target, heuristic, f_calculation = (lambda g, h: g + h)):\n",
    "        self.initial = puzzle\n",
    "        self.solved_puzzle_hash = str(target)\n",
    "        self.solved_puzzle = target\n",
    "        self.psize = psize\n",
    "        self.states = pd.DataFrame({'puzzle': [puzzle], 'parent': None, 'g': 0,\n",
    "                       'f': heuristic.get_h(puzzle, target), 'is_open_list': 1},\n",
    "                        index=[(str(puzzle))])\n",
    "        self.heuristic = heuristic\n",
    "        self.f_calculation = f_calculation\n",
    "\n",
    "    def a_star(self):\n",
    "        while self.states['is_open_list'].sum():\n",
    "#             print(self.states) # tst\n",
    "            current = self.states[self.states.is_open_list == 1].iloc[0]\n",
    "            if current.name == self.solved_puzzle_hash:\n",
    "                return self.get_result(current)\n",
    "            else:\n",
    "                self.states.loc[current.name, 'is_open_list'] = 0\n",
    "                self.expand(current)\n",
    "                self.states = self.states.sort_values('f')\n",
    "\n",
    "\n",
    "    def expand(self, current):\n",
    "        hole_index = current.puzzle.index(0)\n",
    "        expanded = [foo(current.puzzle, hole_index, self.psize) for foo in moves]\n",
    "        g = current.g + 1\n",
    "        for i in expanded:\n",
    "            if i:\n",
    "                f = self.f_calculation(g, self.heuristic.get_h(i, self.solved_puzzle))\n",
    "                if str(i) in self.states.index:\n",
    "                    if f < self.states.loc[str(i)]['f']:\n",
    "                        self.states.loc[str(i)] = [i, current.name, g, f, 1]\n",
    "                else:\n",
    "                    self.states.loc[str(i)] = [i, current.name, g, f, 1]\n",
    "                if str(i) == self.solved_puzzle_hash:\n",
    "                    return ;\n",
    "\n",
    "    def print_states(self, idx, size):\n",
    "        if self.states.loc[idx, 'parent']:\n",
    "            self.print_states(self.states.loc[idx, 'parent'], size)\n",
    "        print('step ', self.states.loc[idx, 'g'])\n",
    "        chunks = (self.states.loc[idx, 'puzzle'][i : i + size]\n",
    "               for i in range(0, size*size, size))\n",
    "        for ch in chunks:\n",
    "            print(ch)\n",
    "\n",
    "    def get_result(self, current):\n",
    "#         print(type(current.name))\n",
    "#         print(self.states.loc[current.name, 'parent'])\n",
    "        self.print_states(current.name, self.psize)\n",
    "#         print('finita')\n",
    "#         return self.states"
   ]
  },
  {
   "cell_type": "code",
   "execution_count": 55,
   "metadata": {},
   "outputs": [],
   "source": [
    "solv = Solver(puzzle, 3, target, heuristic)"
   ]
  },
  {
   "cell_type": "code",
   "execution_count": 56,
   "metadata": {},
   "outputs": [
    {
     "name": "stdout",
     "output_type": "stream",
     "text": [
      "step  0\n",
      "[1, 2, 3]\n",
      "[0, 6, 4]\n",
      "[8, 7, 5]\n",
      "step  1\n",
      "[1, 2, 3]\n",
      "[8, 6, 4]\n",
      "[0, 7, 5]\n",
      "step  2\n",
      "[1, 2, 3]\n",
      "[8, 6, 4]\n",
      "[7, 0, 5]\n",
      "step  3\n",
      "[1, 2, 3]\n",
      "[8, 0, 4]\n",
      "[7, 6, 5]\n"
     ]
    }
   ],
   "source": [
    "solv.a_star()"
   ]
  },
  {
   "cell_type": "code",
   "execution_count": 87,
   "metadata": {},
   "outputs": [
    {
     "data": {
      "text/plain": [
       "[None,\n",
       " [15, 10, 5, 7, 13, 3, 14, 0, 8, 11, 1, 9, 6, 2, 12, 4],\n",
       " [15, 10, 0, 5, 13, 3, 14, 7, 8, 11, 1, 9, 6, 2, 12, 4],\n",
       " None]"
      ]
     },
     "execution_count": 87,
     "metadata": {},
     "output_type": "execute_result"
    }
   ],
   "source": [
    "[1, 2, 3, 8, 0, 4, 7, 6, 5]\n",
    "trr = move([15, 10, 5, 0, 13, 3, 14, 7, 8, 11, 1, 9, 6, 2, 12, 4], 4)     \n",
    "trr\n",
    "# for i in range(4):\n",
    "#     print(i)"
   ]
  },
  {
   "cell_type": "code",
   "execution_count": 44,
   "metadata": {},
   "outputs": [],
   "source": [
    "trr[0][0] = 'fdksl'"
   ]
  },
  {
   "cell_type": "code",
   "execution_count": 46,
   "metadata": {},
   "outputs": [
    {
     "data": {
      "text/plain": [
       "6"
      ]
     },
     "execution_count": 46,
     "metadata": {},
     "output_type": "execute_result"
    }
   ],
   "source": [
    "trr[0].index(0)"
   ]
  },
  {
   "cell_type": "code",
   "execution_count": 100,
   "metadata": {},
   "outputs": [],
   "source": [
    "states.loc[str([15, 10, 0, 5, 13, 3, 14, 7, 8, 11, 1, 9, 6, 2, 12, 4])] = [[15, 10, 0, 5, 13, 3, 14, 7, 8, 11, 1, 9, 6, 2, 12, 4], ['some'], 1, 89, 1]"
   ]
  },
  {
   "cell_type": "code",
   "execution_count": 101,
   "metadata": {},
   "outputs": [
    {
     "data": {
      "text/html": [
       "<div>\n",
       "<style scoped>\n",
       "    .dataframe tbody tr th:only-of-type {\n",
       "        vertical-align: middle;\n",
       "    }\n",
       "\n",
       "    .dataframe tbody tr th {\n",
       "        vertical-align: top;\n",
       "    }\n",
       "\n",
       "    .dataframe thead th {\n",
       "        text-align: right;\n",
       "    }\n",
       "</style>\n",
       "<table border=\"1\" class=\"dataframe\">\n",
       "  <thead>\n",
       "    <tr style=\"text-align: right;\">\n",
       "      <th></th>\n",
       "      <th>puzzle</th>\n",
       "      <th>parent</th>\n",
       "      <th>g</th>\n",
       "      <th>f</th>\n",
       "      <th>is_open_list</th>\n",
       "    </tr>\n",
       "  </thead>\n",
       "  <tbody>\n",
       "    <tr>\n",
       "      <th>[15, 10, 14, 5, 13, 3, 0, 7, 8, 11, 1, 9, 6, 2, 12, 4]</th>\n",
       "      <td>[15, 10, 14, 5, 13, 3, 0, 7, 8, 11, 1, 9, 6, 2...</td>\n",
       "      <td>None</td>\n",
       "      <td>0</td>\n",
       "      <td>42</td>\n",
       "      <td>1</td>\n",
       "    </tr>\n",
       "    <tr>\n",
       "      <th>[15, 10, 0, 5, 13, 3, 14, 7, 8, 11, 1, 9, 6, 2, 12, 4]</th>\n",
       "      <td>[15, 10, 0, 5, 13, 3, 14, 7, 8, 11, 1, 9, 6, 2...</td>\n",
       "      <td>[some]</td>\n",
       "      <td>1</td>\n",
       "      <td>89</td>\n",
       "      <td>1</td>\n",
       "    </tr>\n",
       "  </tbody>\n",
       "</table>\n",
       "</div>"
      ],
      "text/plain": [
       "                                                                                               puzzle  \\\n",
       "[15, 10, 14, 5, 13, 3, 0, 7, 8, 11, 1, 9, 6, 2,...  [15, 10, 14, 5, 13, 3, 0, 7, 8, 11, 1, 9, 6, 2...   \n",
       "[15, 10, 0, 5, 13, 3, 14, 7, 8, 11, 1, 9, 6, 2,...  [15, 10, 0, 5, 13, 3, 14, 7, 8, 11, 1, 9, 6, 2...   \n",
       "\n",
       "                                                    parent  g   f  \\\n",
       "[15, 10, 14, 5, 13, 3, 0, 7, 8, 11, 1, 9, 6, 2,...    None  0  42   \n",
       "[15, 10, 0, 5, 13, 3, 14, 7, 8, 11, 1, 9, 6, 2,...  [some]  1  89   \n",
       "\n",
       "                                                    is_open_list  \n",
       "[15, 10, 14, 5, 13, 3, 0, 7, 8, 11, 1, 9, 6, 2,...             1  \n",
       "[15, 10, 0, 5, 13, 3, 14, 7, 8, 11, 1, 9, 6, 2,...             1  "
      ]
     },
     "execution_count": 101,
     "metadata": {},
     "output_type": "execute_result"
    }
   ],
   "source": [
    "states"
   ]
  },
  {
   "cell_type": "code",
   "execution_count": 95,
   "metadata": {},
   "outputs": [
    {
     "data": {
      "text/plain": [
       "True"
      ]
     },
     "execution_count": 95,
     "metadata": {},
     "output_type": "execute_result"
    }
   ],
   "source": [
    "str([15, 10, 0, 5, 13, 3, 14, 7, 8, 11, 1, 9, 6, 2, 12, 4]) in states.index"
   ]
  },
  {
   "cell_type": "code",
   "execution_count": 102,
   "metadata": {},
   "outputs": [
    {
     "data": {
      "text/plain": [
       "89"
      ]
     },
     "execution_count": 102,
     "metadata": {},
     "output_type": "execute_result"
    }
   ],
   "source": [
    "states.loc[str([15, 10, 0, 5, 13, 3, 14, 7, 8, 11, 1, 9, 6, 2, 12, 4])]['']"
   ]
  },
  {
   "cell_type": "code",
   "execution_count": null,
   "metadata": {},
   "outputs": [],
   "source": []
  }
 ],
 "metadata": {
  "kernelspec": {
   "display_name": "Python 3",
   "language": "python",
   "name": "python3"
  },
  "language_info": {
   "codemirror_mode": {
    "name": "ipython",
    "version": 3
   },
   "file_extension": ".py",
   "mimetype": "text/x-python",
   "name": "python",
   "nbconvert_exporter": "python",
   "pygments_lexer": "ipython3",
   "version": "3.6.5"
  }
 },
 "nbformat": 4,
 "nbformat_minor": 2
}
